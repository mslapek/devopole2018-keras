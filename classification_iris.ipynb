{
 "cells": [
  {
   "cell_type": "markdown",
   "metadata": {},
   "source": [
    "# Iris classification in Keras\n",
    "\n",
    "Author: Michał Słapek\n",
    "\n",
    "Classification example for Iris dataset."
   ]
  },
  {
   "cell_type": "code",
   "execution_count": null,
   "metadata": {},
   "outputs": [],
   "source": [
    "import numpy as np\n",
    "import pandas as pd\n",
    "from matplotlib import pyplot as plt\n",
    "import seaborn as sns\n",
    "\n",
    "import keras\n",
    "from keras.models import Sequential\n",
    "from keras.layers import Dense\n",
    "\n",
    "from utils import get_iris_data\n",
    "from plot_iris import plot_contours"
   ]
  },
  {
   "cell_type": "code",
   "execution_count": null,
   "metadata": {},
   "outputs": [],
   "source": [
    "data = get_iris_data()"
   ]
  },
  {
   "cell_type": "code",
   "execution_count": null,
   "metadata": {},
   "outputs": [],
   "source": [
    "type(data)"
   ]
  },
  {
   "cell_type": "code",
   "execution_count": null,
   "metadata": {},
   "outputs": [],
   "source": [
    "data.head(5)"
   ]
  },
  {
   "cell_type": "code",
   "execution_count": null,
   "metadata": {},
   "outputs": [],
   "source": [
    "sns.set()\n",
    "plt.figure(dpi=100)\n",
    "sns.scatterplot(\n",
    "    x='sepal length (cm)',\n",
    "    y='sepal width (cm)',\n",
    "    hue='family',\n",
    "    data=data\n",
    ")\n",
    "plt.show()"
   ]
  },
  {
   "cell_type": "markdown",
   "metadata": {},
   "source": [
    "## Model plot"
   ]
  },
  {
   "cell_type": "code",
   "execution_count": null,
   "metadata": {},
   "outputs": [],
   "source": [
    "plot_x_lim = (4, 9)\n",
    "plot_y_lim = (1.5, 5)\n",
    "plot_X, plot_Y = np.meshgrid(\n",
    "    np.arange(*plot_x_lim, step=0.1),\n",
    "    np.arange(*plot_y_lim, step=0.1)\n",
    ")\n",
    "\n",
    "def format_loss(l):\n",
    "    return '[' + ', '.join(f'{v:0.2f}' for v in l) + ']'\n",
    "\n",
    "def plot_model(model, name='model'):\n",
    "    fig, ax = plt.subplots(dpi=100)\n",
    "    a = plot_contours(ax, model, plot_X, plot_Y)\n",
    "    fig.colorbar(a)\n",
    "    sns.scatterplot(\n",
    "        x=X_train[:, 0],\n",
    "        y=X_train[:, 1],\n",
    "        hue='T' + pd.Series(y_train).astype(str),\n",
    "        hue_order=[f'T{i}' for i in range(3)],\n",
    "        marker='x',\n",
    "        legend=False\n",
    "    )\n",
    "    sns.scatterplot(\n",
    "        x=X_valid[:, 0],\n",
    "        y=X_valid[:, 1],\n",
    "        hue='V' + pd.Series(y_valid).astype(str),\n",
    "        hue_order=[f'V{i}' for i in range(3)],\n",
    "        legend=False\n",
    "    )\n",
    "    \n",
    "    text = f'train: {format_loss(model.evaluate(X_train, y_train, verbose=False))}\\n' \\\n",
    "           f'valid: {format_loss(model.evaluate(X_valid, y_valid, verbose=False))}'\n",
    "    ax.text(4.5, 4.5, text, color='white')"
   ]
  },
  {
   "cell_type": "markdown",
   "metadata": {},
   "source": [
    "## Train, test, validation split"
   ]
  },
  {
   "cell_type": "code",
   "execution_count": null,
   "metadata": {},
   "outputs": [],
   "source": [
    "from sklearn.model_selection import train_test_split\n",
    "\n",
    "X = data[['sepal length (cm)', 'sepal width (cm)']].values\n",
    "y = data['class'].values\n",
    "\n",
    "X_train_valid, X_test, y_train_valid, y_test = train_test_split(\n",
    "    X, y,\n",
    "    test_size=0.25,\n",
    "    random_state=910797\n",
    ")\n",
    "\n",
    "X_train, X_valid, y_train, y_valid = train_test_split(\n",
    "    X_train_valid, y_train_valid,\n",
    "    test_size=1/3,\n",
    "    random_state=142385\n",
    ")\n",
    "\n",
    "for m in [X_train, X_valid, X_test]:\n",
    "    print(type(m))\n",
    "    print(m.shape)    "
   ]
  },
  {
   "cell_type": "markdown",
   "metadata": {},
   "source": [
    "## Model class ~ (sepal width) * (sepal length)"
   ]
  },
  {
   "cell_type": "code",
   "execution_count": null,
   "metadata": {},
   "outputs": [],
   "source": [
    "models = {}"
   ]
  },
  {
   "cell_type": "markdown",
   "metadata": {},
   "source": [
    "### Flat model"
   ]
  },
  {
   "cell_type": "code",
   "execution_count": null,
   "metadata": {},
   "outputs": [],
   "source": [
    "model = Sequential()\n",
    "model.add(Dense(units=3, input_dim=2, activation='softmax'))\n",
    "\n",
    "model.compile(\n",
    "    loss='sparse_categorical_crossentropy',\n",
    "    optimizer=keras.optimizers.SGD(lr=0.01, momentum=0.9, nesterov=True),\n",
    "    metrics=['accuracy']\n",
    ")\n",
    "model.summary()"
   ]
  },
  {
   "cell_type": "code",
   "execution_count": null,
   "metadata": {},
   "outputs": [],
   "source": [
    "# model.load_weights('weights/iris_flat.hdf5')\n",
    "model.fit(\n",
    "    X_train, y_train, \n",
    "    epochs=1_000, \n",
    "    batch_size=len(y_train),\n",
    "    validation_data=(X_valid, y_valid)\n",
    ")\n",
    "# model.save_weights('weights/iris_flat.hdf5')"
   ]
  },
  {
   "cell_type": "code",
   "execution_count": null,
   "metadata": {},
   "outputs": [],
   "source": [
    "models['flat'] = model\n",
    "plot_model(model, 'flat')"
   ]
  },
  {
   "cell_type": "markdown",
   "metadata": {},
   "source": [
    "## Medium model"
   ]
  },
  {
   "cell_type": "code",
   "execution_count": null,
   "metadata": {},
   "outputs": [],
   "source": [
    "model = Sequential()\n",
    "model.add(Dense(units=5, input_dim=2, activation='relu'))\n",
    "model.add(Dense(units=3, activation='softmax'))\n",
    "\n",
    "model.compile(\n",
    "    loss='sparse_categorical_crossentropy',\n",
    "    optimizer=keras.optimizers.SGD(lr=0.01, momentum=0.9, nesterov=True),\n",
    "    metrics=['accuracy']\n",
    ")\n",
    "model.summary()"
   ]
  },
  {
   "cell_type": "code",
   "execution_count": null,
   "metadata": {},
   "outputs": [],
   "source": [
    "model.load_weights('weights/iris_medium.hdf5')\n",
    "# model.fit(\n",
    "#     X_train, y_train, \n",
    "#     epochs=10_000, \n",
    "#     batch_size=len(y_train),\n",
    "#     validation_data=(X_valid, y_valid),\n",
    "#     verbose=False\n",
    "# )\n",
    "# model.save_weights('weights/iris_medium.hdf5')"
   ]
  },
  {
   "cell_type": "code",
   "execution_count": null,
   "metadata": {},
   "outputs": [],
   "source": [
    "models['medium'] = model\n",
    "plot_model(model)"
   ]
  },
  {
   "cell_type": "markdown",
   "metadata": {},
   "source": [
    "## Big model"
   ]
  },
  {
   "cell_type": "code",
   "execution_count": null,
   "metadata": {},
   "outputs": [],
   "source": [
    "model = Sequential()\n",
    "model.add(Dense(units=100, input_dim=2, activation='relu'))\n",
    "model.add(Dense(units=100, activation='relu'))\n",
    "model.add(Dense(units=100, activation='relu'))\n",
    "model.add(Dense(units=3, activation='softmax'))\n",
    "\n",
    "model.compile(\n",
    "    loss='sparse_categorical_crossentropy',\n",
    "    optimizer=keras.optimizers.SGD(lr=0.01, momentum=0.9, nesterov=True),\n",
    "    metrics=['accuracy']\n",
    ")\n",
    "model.summary()"
   ]
  },
  {
   "cell_type": "code",
   "execution_count": null,
   "metadata": {},
   "outputs": [],
   "source": [
    "model.load_weights('weights/iris_big.hdf5')\n",
    "# model.fit(\n",
    "#     X_train, y_train, \n",
    "#     epochs=10_000, \n",
    "#     batch_size=len(y_train),\n",
    "#     validation_data=(X_valid, y_valid),\n",
    "#     verbose=False\n",
    "# )\n",
    "# model.save_weights('weights/iris_big.hdf5')"
   ]
  },
  {
   "cell_type": "code",
   "execution_count": null,
   "metadata": {},
   "outputs": [],
   "source": [
    "models['big'] = model\n",
    "plot_model(model)"
   ]
  },
  {
   "cell_type": "code",
   "execution_count": null,
   "metadata": {},
   "outputs": [],
   "source": [
    "for k, m in models.items():\n",
    "    score = m.evaluate(X_valid, y_valid, verbose=False)\n",
    "    print(f'Model {k:10}: {score}')"
   ]
  },
  {
   "cell_type": "code",
   "execution_count": null,
   "metadata": {},
   "outputs": [],
   "source": [
    "models['????'].evaluate(X_test, y_test)"
   ]
  },
  {
   "cell_type": "code",
   "execution_count": null,
   "metadata": {},
   "outputs": [],
   "source": []
  }
 ],
 "metadata": {
  "kernelspec": {
   "display_name": "Python 3",
   "language": "python",
   "name": "python3"
  },
  "language_info": {
   "codemirror_mode": {
    "name": "ipython",
    "version": 3
   },
   "file_extension": ".py",
   "mimetype": "text/x-python",
   "name": "python",
   "nbconvert_exporter": "python",
   "pygments_lexer": "ipython3",
   "version": "3.6.7"
  }
 },
 "nbformat": 4,
 "nbformat_minor": 2
}
